{
 "cells": [
  {
   "cell_type": "code",
   "execution_count": 1,
   "id": "80798184-e5e3-48bc-8c40-0f4ae5bc2e8b",
   "metadata": {},
   "outputs": [
    {
     "name": "stdout",
     "output_type": "stream",
     "text": [
      "Baseline Model Accuracy for Red Wine: 0.740625\n",
      "Random Forest Model Accuracy for Red Wine: 0.790625\n",
      "Best Parameters: {'max_depth': 20, 'min_samples_split': 2, 'n_estimators': 200}\n",
      "Best Accuracy: 0.8155208333333335\n",
      "Cross-validated Accuracy for Red Wine: 0.7323393416927899\n"
     ]
    }
   ],
   "source": [
    "# Import necessary libraries\n",
    "import pandas as pd\n",
    "from sklearn.model_selection import train_test_split\n",
    "from sklearn.linear_model import LogisticRegression\n",
    "from sklearn.metrics import accuracy_score\n",
    "from sklearn.metrics import classification_report\n",
    "from sklearn.ensemble import RandomForestClassifier\n",
    "\n",
    "# Load the red wine dataset with the correct delimiter\n",
    "redWine_df = pd.read_csv(r'C:\\Users\\sinve\\Semester 5\\MachineLearning\\WineQuality\\data\\winequality-red.csv', delimiter=';')\n",
    "\n",
    "# Define high-quality (1) and low-quality (0) classes based on quality threshold\n",
    "redWine_df['quality_class'] = redWine_df['quality'].apply(lambda x: 1 if x >= 6 else 0)\n",
    "\n",
    "# Separate features and target variable\n",
    "X_red = redWine_df.drop(['quality', 'quality_class'], axis=1)\n",
    "y_red = redWine_df['quality_class']\n",
    "\n",
    "# Split data into training and testing sets\n",
    "X_red_train, X_red_test, y_red_train, y_red_test = train_test_split(X_red, y_red, test_size=0.2, random_state=42)\n",
    "\n",
    "#Logistic Regression model\n",
    "model_red = LogisticRegression(max_iter=2000)\n",
    "model_red.fit(X_red_train, y_red_train)\n",
    "# Make predictions and calculate accuracy for red wine\n",
    "y_red_pred = model_red.predict(X_red_test)\n",
    "accuracy_red = accuracy_score(y_red_test, y_red_pred)\n",
    "print(\"Baseline Model Accuracy for Red Wine:\", accuracy_red) #0.740625 (ok, good start)\n",
    "\n",
    "\n",
    "\n",
    "\n",
    "from sklearn.ensemble import RandomForestClassifier\n",
    "\n",
    "rf_model = RandomForestClassifier(n_estimators=100, random_state=42)\n",
    "rf_model.fit(X_red_train, y_red_train)\n",
    "y_red_pred_rf = rf_model.predict(X_red_test)\n",
    "accuracy_rf = accuracy_score(y_red_test, y_red_pred_rf)\n",
    "print(\"Random Forest Model Accuracy for Red Wine:\", accuracy_rf) #0.790625 (better!)\n",
    "\n",
    "from sklearn.model_selection import GridSearchCV\n",
    "\n",
    "param_grid = {\n",
    "    'n_estimators': [50, 100, 200],\n",
    "    'max_depth': [None, 10, 20, 30],\n",
    "    'min_samples_split': [2, 5, 10]\n",
    "}\n",
    "\n",
    "grid_search = GridSearchCV(estimator=rf_model, param_grid=param_grid, cv=5, scoring='accuracy')\n",
    "grid_search.fit(X_red_train, y_red_train)\n",
    "print(\"Best Parameters:\", grid_search.best_params_) #Best Parameters: {'max_depth': 20, 'min_samples_split': 2, 'n_estimators': 200}\n",
    "print(\"Best Accuracy:\", grid_search.best_score_) #Best Accuracy: 0.8155208333333335\n",
    "\n",
    "\n",
    "from sklearn.model_selection import cross_val_score\n",
    "\n",
    "scores = cross_val_score(rf_model, X_red, y_red, cv=5, scoring='accuracy')\n",
    "print(\"Cross-validated Accuracy for Red Wine:\", scores.mean())\n",
    "#may still be some overfitting on the initial training and test spli due to : Cross-validated Accuracy for Red Wine: 0.7323393416927899 (worse!)\n"
   ]
  },
  {
   "cell_type": "code",
   "execution_count": 2,
   "id": "5358cbc4-a185-4912-9e37-47c09bd710dc",
   "metadata": {},
   "outputs": [
    {
     "name": "stdout",
     "output_type": "stream",
     "text": [
      "              precision    recall  f1-score   support\n",
      "\n",
      "           0       0.76      0.76      0.76       141\n",
      "           1       0.81      0.82      0.81       179\n",
      "\n",
      "    accuracy                           0.79       320\n",
      "   macro avg       0.79      0.79      0.79       320\n",
      "weighted avg       0.79      0.79      0.79       320\n",
      "\n"
     ]
    }
   ],
   "source": [
    "y_red_pred_best = grid_search.best_estimator_.predict(X_red_test)\n",
    "print(classification_report(y_red_test, y_red_pred_best))"
   ]
  },
  {
   "cell_type": "code",
   "execution_count": 3,
   "id": "108c43d9-e32b-4b08-a3fa-07a533024a79",
   "metadata": {},
   "outputs": [
    {
     "ename": "NameError",
     "evalue": "name 'plt' is not defined",
     "output_type": "error",
     "traceback": [
      "\u001b[1;31m---------------------------------------------------------------------------\u001b[0m",
      "\u001b[1;31mNameError\u001b[0m                                 Traceback (most recent call last)",
      "Cell \u001b[1;32mIn[3], line 6\u001b[0m\n\u001b[0;32m      3\u001b[0m features \u001b[38;5;241m=\u001b[39m X_red\u001b[38;5;241m.\u001b[39mcolumns\n\u001b[0;32m      4\u001b[0m indices \u001b[38;5;241m=\u001b[39m np\u001b[38;5;241m.\u001b[39margsort(feature_importances)[::\u001b[38;5;241m-\u001b[39m\u001b[38;5;241m1\u001b[39m]\n\u001b[1;32m----> 6\u001b[0m \u001b[43mplt\u001b[49m\u001b[38;5;241m.\u001b[39mfigure(figsize\u001b[38;5;241m=\u001b[39m(\u001b[38;5;241m10\u001b[39m, \u001b[38;5;241m6\u001b[39m))\n\u001b[0;32m      7\u001b[0m plt\u001b[38;5;241m.\u001b[39mtitle(\u001b[38;5;124m\"\u001b[39m\u001b[38;5;124mFeature Importances for Red Wine Quality Prediction\u001b[39m\u001b[38;5;124m\"\u001b[39m)\n\u001b[0;32m      8\u001b[0m plt\u001b[38;5;241m.\u001b[39mbar(\u001b[38;5;28mrange\u001b[39m(\u001b[38;5;28mlen\u001b[39m(features)), feature_importances[indices], align\u001b[38;5;241m=\u001b[39m\u001b[38;5;124m\"\u001b[39m\u001b[38;5;124mcenter\u001b[39m\u001b[38;5;124m\"\u001b[39m)\n",
      "\u001b[1;31mNameError\u001b[0m: name 'plt' is not defined"
     ]
    }
   ],
   "source": [
    "import numpy as np \n",
    "feature_importances = grid_search.best_estimator_.feature_importances_\n",
    "features = X_red.columns\n",
    "indices = np.argsort(feature_importances)[::-1]\n",
    "\n",
    "plt.figure(figsize=(10, 6))\n",
    "plt.title(\"Feature Importances for Red Wine Quality Prediction\")\n",
    "plt.bar(range(len(features)), feature_importances[indices], align=\"center\")\n",
    "plt.xticks(range(len(features)), [features[i] for i in indices], rotation=90)\n",
    "plt.show()"
   ]
  },
  {
   "cell_type": "code",
   "execution_count": 4,
   "id": "3f6c9573-20d2-473f-8a5a-08737a63c73b",
   "metadata": {},
   "outputs": [
    {
     "name": "stdout",
     "output_type": "stream",
     "text": [
      "Cross-validated Accuracy for Tuned Random Forest Model: 0.7304604231974922\n"
     ]
    }
   ],
   "source": [
    "cv_scores_tuned = cross_val_score(grid_search.best_estimator_, X_red, y_red, cv=5, scoring='accuracy')\n",
    "print(\"Cross-validated Accuracy for Tuned Random Forest Model:\", cv_scores_tuned.mean())"
   ]
  },
  {
   "cell_type": "code",
   "execution_count": 5,
   "id": "52946854-d8d2-41cc-8514-bb1e5bf0c0af",
   "metadata": {},
   "outputs": [
    {
     "name": "stdout",
     "output_type": "stream",
     "text": [
      "Cross-validated Accuracy with Reduced Complexity: 0.7248354231974922\n"
     ]
    }
   ],
   "source": [
    "rf_model_simple = RandomForestClassifier(n_estimators=200, max_depth=15, min_samples_split=10, random_state=42)\n",
    "cv_scores_simple = cross_val_score(rf_model_simple, X_red, y_red, cv=5, scoring='accuracy')\n",
    "print(\"Cross-validated Accuracy with Reduced Complexity:\", cv_scores_simple.mean())"
   ]
  },
  {
   "cell_type": "code",
   "execution_count": 6,
   "id": "5b52fe54-c286-4cf7-ae04-21faafdbfd17",
   "metadata": {},
   "outputs": [
    {
     "ename": "ModuleNotFoundError",
     "evalue": "No module named 'xgboost'",
     "output_type": "error",
     "traceback": [
      "\u001b[1;31m---------------------------------------------------------------------------\u001b[0m",
      "\u001b[1;31mModuleNotFoundError\u001b[0m                       Traceback (most recent call last)",
      "Cell \u001b[1;32mIn[6], line 1\u001b[0m\n\u001b[1;32m----> 1\u001b[0m \u001b[38;5;28;01mfrom\u001b[39;00m \u001b[38;5;21;01mxgboost\u001b[39;00m \u001b[38;5;28;01mimport\u001b[39;00m XGBClassifier\n\u001b[0;32m      3\u001b[0m xgb_model \u001b[38;5;241m=\u001b[39m XGBClassifier(n_estimators\u001b[38;5;241m=\u001b[39m\u001b[38;5;241m200\u001b[39m, max_depth\u001b[38;5;241m=\u001b[39m\u001b[38;5;241m10\u001b[39m, learning_rate\u001b[38;5;241m=\u001b[39m\u001b[38;5;241m0.1\u001b[39m, random_state\u001b[38;5;241m=\u001b[39m\u001b[38;5;241m42\u001b[39m)\n\u001b[0;32m      4\u001b[0m cv_scores_xgb \u001b[38;5;241m=\u001b[39m cross_val_score(xgb_model, X_red, y_red, cv\u001b[38;5;241m=\u001b[39m\u001b[38;5;241m5\u001b[39m, scoring\u001b[38;5;241m=\u001b[39m\u001b[38;5;124m'\u001b[39m\u001b[38;5;124maccuracy\u001b[39m\u001b[38;5;124m'\u001b[39m)\n",
      "\u001b[1;31mModuleNotFoundError\u001b[0m: No module named 'xgboost'"
     ]
    }
   ],
   "source": [
    "from xgboost import XGBClassifier\n",
    "\n",
    "xgb_model = XGBClassifier(n_estimators=200, max_depth=10, learning_rate=0.1, random_state=42)\n",
    "cv_scores_xgb = cross_val_score(xgb_model, X_red, y_red, cv=5, scoring='accuracy')\n",
    "print(\"Cross-validated Accuracy for XGBoost:\", cv_scores_xgb.mean())\n"
   ]
  },
  {
   "cell_type": "code",
   "execution_count": 7,
   "id": "0bb1e651-2107-4bed-92be-31fba344db3a",
   "metadata": {},
   "outputs": [
    {
     "name": "stdout",
     "output_type": "stream",
     "text": [
      "Cross-validated Accuracy with Balanced Class Weights: 0.7204584639498433\n"
     ]
    }
   ],
   "source": [
    "rf_model_balanced = RandomForestClassifier(n_estimators=200, max_depth=15, min_samples_split=10, class_weight='balanced', random_state=42)\n",
    "cv_scores_balanced = cross_val_score(rf_model_balanced, X_red, y_red, cv=5, scoring='accuracy')\n",
    "print(\"Cross-validated Accuracy with Balanced Class Weights:\", cv_scores_balanced.mean())\n",
    "\n"
   ]
  },
  {
   "cell_type": "code",
   "execution_count": 8,
   "id": "fc5be4fd-9ce5-4e64-bb9f-f1e8cb1dbbd3",
   "metadata": {},
   "outputs": [
    {
     "name": "stdout",
     "output_type": "stream",
     "text": [
      "Cross-validated Accuracy for XGBoost: 0.7010619122257052\n"
     ]
    }
   ],
   "source": [
    "from xgboost import XGBClassifier\n",
    "\n",
    "xgb_model = XGBClassifier(n_estimators=200, max_depth=10, learning_rate=0.1, random_state=42)\n",
    "cv_scores_xgb = cross_val_score(xgb_model, X_red, y_red, cv=5, scoring='accuracy')\n",
    "print(\"Cross-validated Accuracy for XGBoost:\", cv_scores_xgb.mean())\n",
    "\n"
   ]
  },
  {
   "cell_type": "code",
   "execution_count": 9,
   "id": "042e9dd9-b743-4238-969a-14e3036aedf6",
   "metadata": {},
   "outputs": [
    {
     "name": "stdout",
     "output_type": "stream",
     "text": [
      "Cross-validated Accuracy for XGBoost (Lower Learning Rate): 0.7091869122257053\n"
     ]
    }
   ],
   "source": [
    "xgb_model = XGBClassifier(n_estimators=500, max_depth=10, learning_rate=0.01, random_state=42)\n",
    "cv_scores_xgb = cross_val_score(xgb_model, X_red, y_red, cv=5, scoring='accuracy')\n",
    "print(\"Cross-validated Accuracy for XGBoost (Lower Learning Rate):\", cv_scores_xgb.mean())\n",
    "\n"
   ]
  },
  {
   "cell_type": "code",
   "execution_count": 10,
   "id": "5bb4a820-6829-4061-97e8-a6c7d2d8c4e6",
   "metadata": {},
   "outputs": [
    {
     "name": "stdout",
     "output_type": "stream",
     "text": [
      "Cross-validated Accuracy for Gradient Boosting: 0.7279702194357366\n"
     ]
    }
   ],
   "source": [
    "from sklearn.ensemble import GradientBoostingClassifier\n",
    "from sklearn.model_selection import cross_val_score\n",
    "\n",
    "gb_model = GradientBoostingClassifier(n_estimators=100, max_depth=3, learning_rate=0.1, random_state=42)\n",
    "\n",
    "cv_scores_gb = cross_val_score(gb_model, X_red, y_red, cv=5, scoring='accuracy')\n",
    "print(\"Cross-validated Accuracy for Gradient Boosting:\", cv_scores_gb.mean())\n"
   ]
  },
  {
   "cell_type": "code",
   "execution_count": 12,
   "id": "7c669bd5-692a-4587-baa4-3397442cdf94",
   "metadata": {},
   "outputs": [
    {
     "name": "stdout",
     "output_type": "stream",
     "text": [
      "Best Parameters for Gradient Boosting: {'learning_rate': 0.01, 'max_depth': 3, 'n_estimators': 300}\n",
      "Best Cross-validated Accuracy for Gradient Boosting: 0.7398393416927899\n"
     ]
    }
   ],
   "source": [
    "from sklearn.model_selection import GridSearchCV\n",
    "\n",
    "param_grid = {\n",
    "    'n_estimators': [100, 200, 300],\n",
    "    'max_depth': [3, 5, 7],\n",
    "    'learning_rate': [0.1, 0.05, 0.01]\n",
    "}\n",
    "\n",
    "grid_search_gb = GridSearchCV(estimator=GradientBoostingClassifier(random_state=42), param_grid=param_grid, cv=5, scoring='accuracy')\n",
    "grid_search_gb.fit(X_red, y_red)\n",
    "\n",
    "print(\"Best Parameters for Gradient Boosting:\", grid_search_gb.best_params_)\n",
    "print(\"Best Cross-validated Accuracy for Gradient Boosting:\", grid_search_gb.best_score_)\n"
   ]
  },
  {
   "cell_type": "code",
   "execution_count": 13,
   "id": "cef73a35-aedd-4272-a4d4-e7658a9ddc6e",
   "metadata": {},
   "outputs": [
    {
     "name": "stdout",
     "output_type": "stream",
     "text": [
      "Best Parameters from Randomized Search: {'n_estimators': 200, 'min_samples_split': 2, 'max_depth': 20, 'bootstrap': True}\n",
      "Best Cross-validated Accuracy from Randomized Search: 0.8155208333333335\n"
     ]
    }
   ],
   "source": [
    "from sklearn.model_selection import RandomizedSearchCV\n",
    "\n",
    "param_dist = {\n",
    "    'n_estimators': [100, 200, 300, 500],\n",
    "    'max_depth': [None, 10, 20, 30],\n",
    "    'min_samples_split': [2, 5, 10],\n",
    "    'bootstrap': [True, False]\n",
    "}\n",
    "random_search = RandomizedSearchCV(estimator=rf_model, param_distributions=param_dist, n_iter=50, cv=5, scoring='accuracy', random_state=42)\n",
    "random_search.fit(X_red_train, y_red_train)\n",
    "print(\"Best Parameters from Randomized Search:\", random_search.best_params_)\n",
    "print(\"Best Cross-validated Accuracy from Randomized Search:\", random_search.best_score_)\n"
   ]
  },
  {
   "cell_type": "code",
   "execution_count": 14,
   "id": "79e38ec6-2bdc-4073-8f7c-afc70669f2f2",
   "metadata": {},
   "outputs": [
    {
     "name": "stdout",
     "output_type": "stream",
     "text": [
      "Test Set Accuracy for Final Random Forest Model: 0.790625\n",
      "              precision    recall  f1-score   support\n",
      "\n",
      "           0       0.76      0.76      0.76       141\n",
      "           1       0.81      0.82      0.81       179\n",
      "\n",
      "    accuracy                           0.79       320\n",
      "   macro avg       0.79      0.79      0.79       320\n",
      "weighted avg       0.79      0.79      0.79       320\n",
      "\n"
     ]
    }
   ],
   "source": [
    "from sklearn.model_selection import cross_val_score\n",
    "\n",
    "final_rf_model = RandomForestClassifier(\n",
    "    n_estimators=200,\n",
    "    min_samples_split=2,\n",
    "    max_depth=20,\n",
    "    bootstrap=True,\n",
    "    random_state=42\n",
    ")\n",
    "\n",
    "final_rf_model.fit(X_red_train, y_red_train)\n",
    "\n",
    "y_red_pred_final = final_rf_model.predict(X_red_test)\n",
    "accuracy_final = accuracy_score(y_red_test, y_red_pred_final)\n",
    "print(\"Test Set Accuracy for Final Random Forest Model:\", accuracy_final)\n",
    "print(classification_report(y_red_test, y_red_pred_final))"
   ]
  },
  {
   "cell_type": "code",
   "execution_count": 15,
   "id": "ce661dfa-9351-4825-a427-ecca263ee8b3",
   "metadata": {},
   "outputs": [
    {
     "name": "stdout",
     "output_type": "stream",
     "text": [
      "Cross-validated Accuracy for Final Random Forest Model: 0.7304604231974922\n"
     ]
    }
   ],
   "source": [
    "cv_scores_final_rf = cross_val_score(final_rf_model, X_red, y_red, cv=5, scoring='accuracy')\n",
    "print(\"Cross-validated Accuracy for Final Random Forest Model:\", cv_scores_final_rf.mean())\n"
   ]
  },
  {
   "cell_type": "code",
   "execution_count": 16,
   "id": "c21d1ac1-95b9-46e1-b641-05e6f72fb7e1",
   "metadata": {},
   "outputs": [
    {
     "name": "stdout",
     "output_type": "stream",
     "text": [
      "Stratified Cross-validated Accuracy for Final Random Forest Model: 0.7304604231974922\n"
     ]
    }
   ],
   "source": [
    "from sklearn.model_selection import StratifiedKFold\n",
    "\n",
    "stratified_cv = StratifiedKFold(n_splits=5)\n",
    "cv_scores_stratified = cross_val_score(final_rf_model, X_red, y_red, cv=stratified_cv, scoring='accuracy')\n",
    "print(\"Stratified Cross-validated Accuracy for Final Random Forest Model:\", cv_scores_stratified.mean())\n"
   ]
  },
  {
   "cell_type": "code",
   "execution_count": 17,
   "id": "8c6801b5-d8c4-4ac6-908a-2de30ff36ee6",
   "metadata": {},
   "outputs": [
    {
     "name": "stdout",
     "output_type": "stream",
     "text": [
      "Cross-validated Accuracy for Final Random Forest Model: 0.7224228694005757\n"
     ]
    }
   ],
   "source": [
    "cv_scores_final_rf = cross_val_score(final_rf_model, X_red, y_red, cv=7, scoring='accuracy')\n",
    "print(\"Cross-validated Accuracy for Final Random Forest Model:\", cv_scores_final_rf.mean())\n"
   ]
  },
  {
   "cell_type": "code",
   "execution_count": 18,
   "id": "9c07ade9-cf16-4d67-a049-4505bb7eb273",
   "metadata": {},
   "outputs": [
    {
     "name": "stdout",
     "output_type": "stream",
     "text": [
      "Test Set Accuracy for Final Random Forest Model: 0.809375\n",
      "              precision    recall  f1-score   support\n",
      "\n",
      "           0       0.79      0.78      0.78       141\n",
      "           1       0.83      0.83      0.83       179\n",
      "\n",
      "    accuracy                           0.81       320\n",
      "   macro avg       0.81      0.81      0.81       320\n",
      "weighted avg       0.81      0.81      0.81       320\n",
      "\n"
     ]
    }
   ],
   "source": [
    "final_rf_model = RandomForestClassifier(\n",
    "    n_estimators=200,\n",
    "    min_samples_split=5,\n",
    "    max_depth=20,\n",
    "    bootstrap=True,\n",
    "    random_state=42\n",
    ")\n",
    "\n",
    "final_rf_model.fit(X_red_train, y_red_train)\n",
    "\n",
    "y_red_pred_final = final_rf_model.predict(X_red_test)\n",
    "accuracy_final = accuracy_score(y_red_test, y_red_pred_final)\n",
    "print(\"Test Set Accuracy for Final Random Forest Model:\", accuracy_final)\n",
    "print(classification_report(y_red_test, y_red_pred_final))"
   ]
  },
  {
   "cell_type": "code",
   "execution_count": 19,
   "id": "a5245c6e-7b1f-4b0a-8ad6-9f4fef864c8c",
   "metadata": {},
   "outputs": [
    {
     "name": "stdout",
     "output_type": "stream",
     "text": [
      "Cross-validated Accuracy for Final Random Forest Model: 0.7266967084639498\n"
     ]
    }
   ],
   "source": [
    "cv_scores_final_rf = cross_val_score(final_rf_model, X_red, y_red, cv=5, scoring='accuracy')\n",
    "print(\"Cross-validated Accuracy for Final Random Forest Model:\", cv_scores_final_rf.mean())\n"
   ]
  },
  {
   "cell_type": "code",
   "execution_count": 20,
   "id": "97bf9fe7-c395-496b-8b9d-7a0addb0a934",
   "metadata": {},
   "outputs": [
    {
     "name": "stdout",
     "output_type": "stream",
     "text": [
      "Test Set Accuracy for Final Random Forest Model (Adjusted): 0.809375\n",
      "              precision    recall  f1-score   support\n",
      "\n",
      "           0       0.78      0.79      0.79       141\n",
      "           1       0.84      0.82      0.83       179\n",
      "\n",
      "    accuracy                           0.81       320\n",
      "   macro avg       0.81      0.81      0.81       320\n",
      "weighted avg       0.81      0.81      0.81       320\n",
      "\n"
     ]
    }
   ],
   "source": [
    "final_rf_model = RandomForestClassifier(\n",
    "    n_estimators=150,       \n",
    "    min_samples_split=10,   \n",
    "    max_depth=15,            \n",
    "    bootstrap=True,\n",
    "    random_state=42\n",
    ")\n",
    "\n",
    "final_rf_model.fit(X_red_train, y_red_train)\n",
    "\n",
    "y_red_pred_final = final_rf_model.predict(X_red_test)\n",
    "accuracy_final = accuracy_score(y_red_test, y_red_pred_final)\n",
    "print(\"Test Set Accuracy for Final Random Forest Model (Adjusted):\", accuracy_final)\n",
    "print(classification_report(y_red_test, y_red_pred_final))"
   ]
  },
  {
   "cell_type": "code",
   "execution_count": 21,
   "id": "c42fa067-5935-44c8-8e24-ad5884ff5381",
   "metadata": {},
   "outputs": [
    {
     "ename": "NameError",
     "evalue": "name 'plt' is not defined",
     "output_type": "error",
     "traceback": [
      "\u001b[1;31m---------------------------------------------------------------------------\u001b[0m",
      "\u001b[1;31mNameError\u001b[0m                                 Traceback (most recent call last)",
      "Cell \u001b[1;32mIn[21], line 2\u001b[0m\n\u001b[0;32m      1\u001b[0m \u001b[38;5;66;03m# Red wine data (this was done earlier, i just didnt do it in jupyter) \u001b[39;00m\n\u001b[1;32m----> 2\u001b[0m \u001b[43mplt\u001b[49m\u001b[38;5;241m.\u001b[39mfigure(figsize\u001b[38;5;241m=\u001b[39m(\u001b[38;5;241m12\u001b[39m, \u001b[38;5;241m6\u001b[39m))\n\u001b[0;32m      3\u001b[0m sns\u001b[38;5;241m.\u001b[39mboxplot(data\u001b[38;5;241m=\u001b[39mredWine_df)\n\u001b[0;32m      4\u001b[0m plt\u001b[38;5;241m.\u001b[39mtitle(\u001b[38;5;124m'\u001b[39m\u001b[38;5;124mRed Wine Data Distribution\u001b[39m\u001b[38;5;124m'\u001b[39m)\n",
      "\u001b[1;31mNameError\u001b[0m: name 'plt' is not defined"
     ]
    }
   ],
   "source": [
    "# Red wine data (this was done earlier, i just didnt do it in jupyter) \n",
    "plt.figure(figsize=(12, 6))\n",
    "sns.boxplot(data=redWine_df)\n",
    "plt.title('Red Wine Data Distribution')\n",
    "plt.xticks(rotation=90)\n",
    "plt.show()\n"
   ]
  },
  {
   "cell_type": "code",
   "execution_count": 22,
   "id": "d5727a1c-6dc0-41dd-8329-393fb5a4dcba",
   "metadata": {},
   "outputs": [
    {
     "ename": "NameError",
     "evalue": "name 'sns' is not defined",
     "output_type": "error",
     "traceback": [
      "\u001b[1;31m---------------------------------------------------------------------------\u001b[0m",
      "\u001b[1;31mNameError\u001b[0m                                 Traceback (most recent call last)",
      "Cell \u001b[1;32mIn[22], line 5\u001b[0m\n\u001b[0;32m      2\u001b[0m \u001b[38;5;28;01mimport\u001b[39;00m \u001b[38;5;21;01mmatplotlib\u001b[39;00m\u001b[38;5;21;01m.\u001b[39;00m\u001b[38;5;21;01mpyplot\u001b[39;00m \u001b[38;5;28;01mas\u001b[39;00m \u001b[38;5;21;01mplt\u001b[39;00m\n\u001b[0;32m      4\u001b[0m plt\u001b[38;5;241m.\u001b[39mfigure(figsize\u001b[38;5;241m=\u001b[39m(\u001b[38;5;241m12\u001b[39m, \u001b[38;5;241m6\u001b[39m))\n\u001b[1;32m----> 5\u001b[0m \u001b[43msns\u001b[49m\u001b[38;5;241m.\u001b[39mboxplot(data\u001b[38;5;241m=\u001b[39mredWine_df)\n\u001b[0;32m      6\u001b[0m plt\u001b[38;5;241m.\u001b[39mtitle(\u001b[38;5;124m'\u001b[39m\u001b[38;5;124mRed Wine Data Distribution\u001b[39m\u001b[38;5;124m'\u001b[39m)\n\u001b[0;32m      7\u001b[0m plt\u001b[38;5;241m.\u001b[39mxticks(rotation\u001b[38;5;241m=\u001b[39m\u001b[38;5;241m90\u001b[39m)\n",
      "\u001b[1;31mNameError\u001b[0m: name 'sns' is not defined"
     ]
    },
    {
     "data": {
      "text/plain": [
       "<Figure size 1200x600 with 0 Axes>"
      ]
     },
     "metadata": {},
     "output_type": "display_data"
    }
   ],
   "source": [
    "# Red wine data (this was done earlier, i just didnt do it in jupyter) \n",
    "import matplotlib.pyplot as plt\n",
    "\n",
    "plt.figure(figsize=(12, 6))\n",
    "sns.boxplot(data=redWine_df)\n",
    "plt.title('Red Wine Data Distribution')\n",
    "plt.xticks(rotation=90)\n",
    "plt.show()"
   ]
  },
  {
   "cell_type": "code",
   "execution_count": 23,
   "id": "9e6b0f00-af4a-4934-8d76-b26bbcb9cfed",
   "metadata": {},
   "outputs": [
    {
     "data": {
      "image/png": "[encoded data removed]",
      "text/plain": [
       "<Figure size 1200x600 with 1 Axes>"
      ]
     },
     "metadata": {},
     "output_type": "display_data"
    }
   ],
   "source": [
    "import seaborn as sns\n",
    "plt.figure(figsize=(12, 6))\n",
    "sns.boxplot(data=redWine_df)\n",
    "plt.title('Red Wine Data Distribution')\n",
    "plt.xticks(rotation=90)\n",
    "plt.show()"
   ]
  },
  {
   "cell_type": "code",
   "execution_count": 24,
   "id": "071ea26d-9d83-4308-a1a8-d0d4a39c2256",
   "metadata": {},
   "outputs": [
    {
     "name": "stdout",
     "output_type": "stream",
     "text": [
      "Test Set Accuracy for Final Random Forest Model (Adjusted): 0.76875\n",
      "              precision    recall  f1-score   support\n",
      "\n",
      "           0       0.72      0.78      0.75       141\n",
      "           1       0.81      0.76      0.79       179\n",
      "\n",
      "    accuracy                           0.77       320\n",
      "   macro avg       0.77      0.77      0.77       320\n",
      "weighted avg       0.77      0.77      0.77       320\n",
      "\n"
     ]
    }
   ],
   "source": [
    "final_rf_model = RandomForestClassifier(\n",
    "    n_estimators=150,       \n",
    "    min_samples_split=13,   \n",
    "    max_depth=12,            \n",
    "    bootstrap=True,\n",
    "    random_state=42\n",
    ")\n",
    "\n",
    "final_rf_model.fit(X_red_train, y_red_train)\n",
    "\n",
    "y_red_pred_final = final_rf_model.predict(X_red_test)\n",
    "accuracy_final = accuracy_score(y_red_test, y_red_pred_final)\n",
    "print(\"Test Set Accuracy for Final Random Forest Model (Adjusted):\", accuracy_final)\n",
    "print(classification_report(y_red_test, y_red_pred_final))"
   ]
  },
  {
   "cell_type": "code",
   "execution_count": 25,
   "id": "c442baaf-e699-4a37-b389-01f0e92891be",
   "metadata": {},
   "outputs": [
    {
     "name": "stdout",
     "output_type": "stream",
     "text": [
      "Test Set Accuracy for Final Random Forest Model (Adjusted): 0.76875\n",
      "              precision    recall  f1-score   support\n",
      "\n",
      "           0       0.72      0.79      0.75       141\n",
      "           1       0.82      0.75      0.78       179\n",
      "\n",
      "    accuracy                           0.77       320\n",
      "   macro avg       0.77      0.77      0.77       320\n",
      "weighted avg       0.77      0.77      0.77       320\n",
      "\n"
     ]
    }
   ],
   "source": [
    "final_rf_model = RandomForestClassifier(\n",
    "    n_estimators=150,       \n",
    "    min_samples_split=10,   \n",
    "    max_depth=7,            \n",
    "    bootstrap=True,\n",
    "    random_state=42\n",
    ")\n",
    "\n",
    "final_rf_model.fit(X_red_train, y_red_train)\n",
    "\n",
    "y_red_pred_final = final_rf_model.predict(X_red_test)\n",
    "accuracy_final = accuracy_score(y_red_test, y_red_pred_final)\n",
    "print(\"Test Set Accuracy for Final Random Forest Model (Adjusted):\", accuracy_final)\n",
    "print(classification_report(y_red_test, y_red_pred_final))"
   ]
  },
  {
   "cell_type": "code",
   "execution_count": 26,
   "id": "233bdf69-9474-4f9e-96c3-dd2a57818f88",
   "metadata": {},
   "outputs": [
    {
     "name": "stdout",
     "output_type": "stream",
     "text": [
      "Test Set Accuracy for Final Random Forest Model (Adjusted): 0.809375\n",
      "              precision    recall  f1-score   support\n",
      "\n",
      "           0       0.78      0.79      0.79       141\n",
      "           1       0.84      0.82      0.83       179\n",
      "\n",
      "    accuracy                           0.81       320\n",
      "   macro avg       0.81      0.81      0.81       320\n",
      "weighted avg       0.81      0.81      0.81       320\n",
      "\n"
     ]
    }
   ],
   "source": [
    "final_rf_model = RandomForestClassifier(\n",
    "    n_estimators=150,       \n",
    "    min_samples_split=10,   \n",
    "    max_depth=15,            \n",
    "    bootstrap=True,\n",
    "    random_state=42\n",
    ")\n",
    "\n",
    "final_rf_model.fit(X_red_train, y_red_train)\n",
    "\n",
    "y_red_pred_final = final_rf_model.predict(X_red_test)\n",
    "accuracy_final = accuracy_score(y_red_test, y_red_pred_final)\n",
    "print(\"Test Set Accuracy for Final Random Forest Model (Adjusted):\", accuracy_final)\n",
    "print(classification_report(y_red_test, y_red_pred_final))"
   ]
  },
  {
   "cell_type": "code",
   "execution_count": 27,
   "id": "5e0ffe79-d485-4b0c-9c56-4b6066279762",
   "metadata": {},
   "outputs": [
    {
     "name": "stdout",
     "output_type": "stream",
     "text": [
      "Test Set Accuracy for Final Random Forest Model (Adjusted): 0.784375\n",
      "              precision    recall  f1-score   support\n",
      "\n",
      "           0       0.75      0.77      0.76       141\n",
      "           1       0.82      0.79      0.80       179\n",
      "\n",
      "    accuracy                           0.78       320\n",
      "   macro avg       0.78      0.78      0.78       320\n",
      "weighted avg       0.79      0.78      0.78       320\n",
      "\n"
     ]
    }
   ],
   "source": [
    "final_rf_model = RandomForestClassifier(\n",
    "    n_estimators=150,       \n",
    "    min_samples_split=10,   \n",
    "    max_depth=11final_rf_model = RandomForestClassifier(\n",
    "    n_estimators=150,       \n",
    "    min_samples_split=10,   \n",
    "    max_depth=15,            \n",
    "    bootstrap=True,\n",
    "    random_state=42\n",
    ")\n",
    "\n",
    "final_rf_model.fit(X_red_train, y_red_train)\n",
    "\n",
    "y_red_pred_final = final_rf_model.predict(X_red_test)\n",
    "accuracy_final = accuracy_score(y_red_test, y_red_pred_final)\n",
    "print(\"Test Set Accuracy for Final Random Forest Model (Adjusted):\", accuracy_final)\n",
    "print(classification_report(y_red_test, y_red_pred_final)),            \n",
    "    bootstrap=True,\n",
    "    random_state=42\n",
    ")\n",
    "\n",
    "final_rf_model.fit(X_red_train, y_red_train)\n",
    "\n",
    "y_red_pred_final = final_rf_model.predict(X_red_test)\n",
    "accuracy_final = accuracy_score(y_red_test, y_red_pred_final)\n",
    "print(\"Test Set Accuracy for Final Random Forest Model (Adjusted):\", accuracy_final)\n",
    "print(classification_report(y_red_test, y_red_pred_final))"
   ]
  },
  {
   "cell_type": "code",
   "execution_count": 28,
   "id": "2fa8d771-3685-4d0d-91f0-5c4b41ae594f",
   "metadata": {},
   "outputs": [
    {
     "name": "stdout",
     "output_type": "stream",
     "text": [
      "Test Set Accuracy for Final Random Forest Model (Adjusted): 0.803125\n",
      "              precision    recall  f1-score   support\n",
      "\n",
      "           0       0.78      0.77      0.78       141\n",
      "           1       0.82      0.83      0.82       179\n",
      "\n",
      "    accuracy                           0.80       320\n",
      "   macro avg       0.80      0.80      0.80       320\n",
      "weighted avg       0.80      0.80      0.80       320\n",
      "\n"
     ]
    }
   ],
   "source": [
    "final_rf_model = RandomForestClassifier(\n",
    "    n_estimators=200,       \n",
    "    min_samples_split=10,   \n",
    "    max_depth=15,            \n",
    "    bootstrap=True,\n",
    "    random_state=42\n",
    ")\n",
    "\n",
    "final_rf_model.fit(X_red_train, y_red_train)\n",
    "\n",
    "y_red_pred_final = final_rf_model.predict(X_red_test)\n",
    "accuracy_final = accuracy_score(y_red_test, y_red_pred_final)\n",
    "print(\"Test Set Accuracy for Final Random Forest Model (Adjusted):\", accuracy_final)\n",
    "print(classification_report(y_red_test, y_red_pred_final))"
   ]
  },
  {
   "cell_type": "code",
   "execution_count": 29,
   "id": "1e92aa1c-f1fb-4c49-b76a-6ca4776e6a94",
   "metadata": {},
   "outputs": [
    {
     "name": "stdout",
     "output_type": "stream",
     "text": [
      "Test Set Accuracy for Final Random Forest Model (Adjusted): 0.7875\n",
      "              precision    recall  f1-score   support\n",
      "\n",
      "           0       0.75      0.77      0.76       141\n",
      "           1       0.82      0.80      0.81       179\n",
      "\n",
      "    accuracy                           0.79       320\n",
      "   macro avg       0.78      0.79      0.79       320\n",
      "weighted avg       0.79      0.79      0.79       320\n",
      "\n"
     ]
    }
   ],
   "source": [
    "final_rf_model = RandomForestClassifier(\n",
    "    n_estimators=150,       \n",
    "    min_samples_split=12,   \n",
    "    max_depth=15,            \n",
    "    bootstrap=True,\n",
    "    random_state=42\n",
    ")\n",
    "\n",
    "final_rf_model.fit(X_red_train, y_red_train)\n",
    "\n",
    "y_red_pred_final = final_rf_model.predict(X_red_test)\n",
    "accuracy_final = accuracy_score(y_red_test, y_red_pred_final)\n",
    "print(\"Test Set Accuracy for Final Random Forest Model (Adjusted):\", accuracy_final)\n",
    "print(classification_report(y_red_test, y_red_pred_final))"
   ]
  },
  {
   "cell_type": "code",
   "execution_count": 30,
   "id": "f7781047-220f-4a7f-9076-f7c87a93c2da",
   "metadata": {},
   "outputs": [
    {
     "name": "stdout",
     "output_type": "stream",
     "text": [
      "Test Set Accuracy for Final Random Forest Model (Adjusted): 0.809375\n",
      "              precision    recall  f1-score   support\n",
      "\n",
      "           0       0.78      0.79      0.79       141\n",
      "           1       0.84      0.82      0.83       179\n",
      "\n",
      "    accuracy                           0.81       320\n",
      "   macro avg       0.81      0.81      0.81       320\n",
      "weighted avg       0.81      0.81      0.81       320\n",
      "\n"
     ]
    }
   ],
   "source": [
    "final_rf_model = RandomForestClassifier(\n",
    "    n_estimators=150,       \n",
    "    min_samples_split=10,   \n",
    "    max_depth=15,            \n",
    "    bootstrap=True,\n",
    "    random_state=42\n",
    ")\n",
    "\n",
    "final_rf_model.fit(X_red_train, y_red_train)\n",
    "\n",
    "y_red_pred_final = final_rf_model.predict(X_red_test)\n",
    "accuracy_final = accuracy_score(y_red_test, y_red_pred_final)\n",
    "print(\"Test Set Accuracy for Final Random Forest Model (Adjusted):\", accuracy_final)\n",
    "print(classification_report(y_red_test, y_red_pred_final))"
   ]
  },
  {
   "cell_type": "code",
   "execution_count": 31,
   "id": "cfa4fe4f-c6c6-4119-af28-94e855bc3a88",
   "metadata": {},
   "outputs": [
    {
     "name": "stdout",
     "output_type": "stream",
     "text": [
      "Cross-validated Accuracy for Final Random Forest Model: 0.7217006269592476\n"
     ]
    }
   ],
   "source": [
    "cv_scores_final_rf = cross_val_score(final_rf_model, X_red, y_red, cv=5, scoring='accuracy')\n",
    "print(\"Cross-validated Accuracy for Final Random Forest Model:\", cv_scores_final_rf.mean())\n",
    "\n"
   ]
  },
  {
   "cell_type": "code",
   "execution_count": 32,
   "id": "bab4251b-ab1f-4017-866c-c407b3b212e0",
   "metadata": {},
   "outputs": [
    {
     "name": "stdout",
     "output_type": "stream",
     "text": [
      "Test Set Accuracy for Stacking Model: 0.809375\n",
      "              precision    recall  f1-score   support\n",
      "\n",
      "           0       0.78      0.79      0.79       141\n",
      "           1       0.84      0.82      0.83       179\n",
      "\n",
      "    accuracy                           0.81       320\n",
      "   macro avg       0.81      0.81      0.81       320\n",
      "weighted avg       0.81      0.81      0.81       320\n",
      "\n"
     ]
    }
   ],
   "source": [
    "from sklearn.ensemble import StackingClassifier\n",
    "from sklearn.ensemble import GradientBoostingClassifier\n",
    "from sklearn.linear_model import LogisticRegression\n",
    "from sklearn.ensemble import RandomForestClassifier\n",
    "from sklearn.metrics import accuracy_score, classification_report\n",
    "\n",
    "estimators = [\n",
    "    ('rf', RandomForestClassifier(n_estimators=150, min_samples_split=10, max_depth=15, bootstrap=True, random_state=42)),\n",
    "    ('lr', LogisticRegression(max_iter=2000, random_state=42))\n",
    "]\n",
    "\n",
    "stacking_model = StackingClassifier(\n",
    "    estimators=estimators,\n",
    "    final_estimator=GradientBoostingClassifier(n_estimators=100, max_depth=3, learning_rate=0.1, random_state=42),\n",
    "    cv=5\n",
    ")\n",
    "\n",
    "stacking_model.fit(X_red_train, y_red_train)\n",
    "\n",
    "y_red_pred_stack = stacking_model.predict(X_red_test)\n",
    "accuracy_stack = accuracy_score(y_red_test, y_red_pred_stack)\n",
    "print(\"Test Set Accuracy for Stacking Model:\", accuracy_stack)\n",
    "print(classification_report(y_red_test, y_red_pred_stack))\n"
   ]
  },
  {
   "cell_type": "code",
   "execution_count": 34,
   "id": "d278cfbb-ec62-4966-80e5-85783392194a",
   "metadata": {},
   "outputs": [
    {
     "name": "stdout",
     "output_type": "stream",
     "text": [
      "Test Set Accuracy for Final Random Forest Model (Adjusted): 0.809375\n",
      "              precision    recall  f1-score   support\n",
      "\n",
      "           0       0.78      0.79      0.79       141\n",
      "           1       0.84      0.82      0.83       179\n",
      "\n",
      "    accuracy                           0.81       320\n",
      "   macro avg       0.81      0.81      0.81       320\n",
      "weighted avg       0.81      0.81      0.81       320\n",
      "\n"
     ]
    }
   ],
   "source": [
    "final_rf_model = RandomForestClassifier(\n",
    "    n_estimators=150,       \n",
    "    min_samples_split=10,   \n",
    "    max_depth=15,\n",
    "    max_features='sqrt'\n",
    "    bootstrap=True,\n",
    "    random_state=42\n",
    ")\n",
    "\n",
    "final_rf_model.fit(X_red_train, y_red_train)\n",
    "\n",
    "y_red_pred_final = final_rf_model.predict(X_red_test)\n",
    "accuracy_final = accuracy_score(y_red_test, y_red_pred_final)\n",
    "print(\"Test Set Accuracy for Final Random Forest Model (Adjusted):\", accuracy_final)\n",
    "print(classification_report(y_red_test, y_red_pred_final))"
   ]
  },
  {
   "cell_type": "code",
   "execution_count": 35,
   "id": "284b4f9b-c259-4ccd-8430-e5b048172ba8",
   "metadata": {},
   "outputs": [
    {
     "name": "stdout",
     "output_type": "stream",
     "text": [
      "Test Set Accuracy for Final Random Forest Model (Adjusted): 0.775\n",
      "              precision    recall  f1-score   support\n",
      "\n",
      "           0       0.74      0.76      0.75       141\n",
      "           1       0.81      0.79      0.80       179\n",
      "\n",
      "    accuracy                           0.78       320\n",
      "   macro avg       0.77      0.77      0.77       320\n",
      "weighted avg       0.78      0.78      0.78       320\n",
      "\n"
     ]
    }
   ],
   "source": [
    "final_rf_model = RandomForestClassifier(\n",
    "    n_estimators=150,       \n",
    "    min_samples_split=10,   \n",
    "    max_depth=15,\n",
    "    max_features='sqrt',min_samples_leaf=5,\n",
    "    bootstrap=True,\n",
    "    random_state=42\n",
    ")\n",
    "\n",
    "final_rf_model.fit(X_red_train, y_red_train)\n",
    "\n",
    "y_red_pred_final = final_rf_model.predict(X_red_test)\n",
    "accuracy_final = accuracy_score(y_red_test, y_red_pred_final)\n",
    "print(\"Test Set Accuracy for Final Random Forest Model (Adjusted):\", accuracy_final)\n",
    "print(classification_report(y_red_test, y_red_pred_final))"
   ]
  },
  {
   "cell_type": "code",
   "execution_count": 37,
   "id": "4334ff80-0035-40c9-93bc-6dcd02b99133",
   "metadata": {},
   "outputs": [
    {
     "name": "stdout",
     "output_type": "stream",
     "text": [
      "Test Set Accuracy for Final Random Forest Model (Adjusted): 0.809375\n",
      "              precision    recall  f1-score   support\n",
      "\n",
      "           0       0.78      0.79      0.78       141\n",
      "           1       0.83      0.83      0.83       179\n",
      "\n",
      "    accuracy                           0.81       320\n",
      "   macro avg       0.81      0.81      0.81       320\n",
      "weighted avg       0.81      0.81      0.81       320\n",
      "\n"
     ]
    }
   ],
   "source": [
    "final_rf_model = RandomForestClassifier(\n",
    "    n_estimators=300,       \n",
    "    min_samples_split=10,   \n",
    "    max_depth=15,\n",
    "    max_features='sqrt',\n",
    "    bootstrap=True,\n",
    "    random_state=42\n",
    ")\n",
    "\n",
    "final_rf_model.fit(X_red_train, y_red_train)\n",
    "\n",
    "y_red_pred_final = final_rf_model.predict(X_red_test)\n",
    "accuracy_final = accuracy_score(y_red_test, y_red_pred_final)\n",
    "print(\"Test Set Accuracy for Final Random Forest Model (Adjusted):\", accuracy_final)\n",
    "print(classification_report(y_red_test, y_red_pred_final))"
   ]
  },
  {
   "cell_type": "code",
   "execution_count": 38,
   "id": "b39a8e69-1929-4fd8-b72f-12d221f035d8",
   "metadata": {},
   "outputs": [
    {
     "name": "stdout",
     "output_type": "stream",
     "text": [
      "Best Parameters from Randomized Search: {'n_estimators': 300, 'min_samples_split': 10, 'min_samples_leaf': 5, 'max_features': 'log2', 'max_depth': 15}\n",
      "Best Cross-validated Accuracy from Randomized Search: 0.7920649509803922\n"
     ]
    }
   ],
   "source": [
    "from sklearn.model_selection import RandomizedSearchCV\n",
    "\n",
    "param_dist = {\n",
    "    'n_estimators': [150, 200, 300],\n",
    "    'max_depth': [10, 15, 20],\n",
    "    'min_samples_split': [5, 10, 15],\n",
    "    'min_samples_leaf': [5, 10, 15],\n",
    "    'max_features': ['sqrt', 'log2', 0.7]\n",
    "}\n",
    "\n",
    "random_search_rf = RandomizedSearchCV(\n",
    "    estimator=RandomForestClassifier(bootstrap=True, random_state=42),\n",
    "    param_distributions=param_dist,\n",
    "    n_iter=20,\n",
    "    cv=5,\n",
    "    scoring='accuracy',\n",
    "    random_state=42,\n",
    "    n_jobs=-1\n",
    ")\n",
    "\n",
    "random_search_rf.fit(X_red_train, y_red_train)\n",
    "\n",
    "print(\"Best Parameters from Randomized Search:\", random_search_rf.best_params_)\n",
    "print(\"Best Cross-validated Accuracy from Randomized Search:\", random_search_rf.best_score_)\n"
   ]
  },
  {
   "cell_type": "code",
   "execution_count": 39,
   "id": "d0717696-0f99-4d65-885c-b91aa3d5b494",
   "metadata": {},
   "outputs": [
    {
     "name": "stdout",
     "output_type": "stream",
     "text": [
      "Test Set Accuracy for Final Tuned Random Forest Model: 0.7875\n",
      "              precision    recall  f1-score   support\n",
      "\n",
      "           0       0.76      0.77      0.76       141\n",
      "           1       0.81      0.80      0.81       179\n",
      "\n",
      "    accuracy                           0.79       320\n",
      "   macro avg       0.78      0.79      0.78       320\n",
      "weighted avg       0.79      0.79      0.79       320\n",
      "\n"
     ]
    }
   ],
   "source": [
    "from sklearn.ensemble import RandomForestClassifier\n",
    "from sklearn.metrics import accuracy_score, classification_report\n",
    "\n",
    "final_rf_model = RandomForestClassifier(\n",
    "    n_estimators=300,\n",
    "    min_samples_split=10,\n",
    "    min_samples_leaf=5,\n",
    "    max_features='log2',\n",
    "    max_depth=15,\n",
    "    bootstrap=True,\n",
    "    random_state=42\n",
    ")\n",
    "\n",
    "final_rf_model.fit(X_red_train, y_red_train)\n",
    "\n",
    "y_red_pred_final = final_rf_model.predict(X_red_test)\n",
    "accuracy_final = accuracy_score(y_red_test, y_red_pred_final)\n",
    "print(\"Test Set Accuracy for Final Tuned Random Forest Model:\", accuracy_final)\n",
    "print(classification_report(y_red_test, y_red_pred_final))\n"
   ]
  },
  {
   "cell_type": "code",
   "execution_count": 40,
   "id": "207f4eed-f870-460f-9990-20bd5fedd995",
   "metadata": {},
   "outputs": [
    {
     "name": "stdout",
     "output_type": "stream",
     "text": [
      "Cross-validated Accuracy for Final Random Forest Model: 0.7298275862068965\n"
     ]
    }
   ],
   "source": [
    "cv_scores_final_rf = cross_val_score(final_rf_model, X_red, y_red, cv=5, scoring='accuracy')\n",
    "print(\"Cross-validated Accuracy for Final Random Forest Model:\", cv_scores_final_rf.mean())\n",
    "\n",
    "\n"
   ]
  },
  {
   "cell_type": "code",
   "execution_count": null,
   "id": "66f23cfb-8421-4114-954e-f95922805097",
   "metadata": {},
   "outputs": [],
   "source": []
  }
 ],
 "metadata": {
  "kernelspec": {
   "display_name": "Python 3 (ipykernel)",
   "language": "python",
   "name": "python3"
  },
  "language_info": {
   "codemirror_mode": {
    "name": "ipython",
    "version": 3
   },
   "file_extension": ".py",
   "mimetype": "text/x-python",
   "name": "python",
   "nbconvert_exporter": "python",
   "pygments_lexer": "ipython3",
   "version": "3.12.5"
  }
 },
 "nbformat": 4,
 "nbformat_minor": 5
}
